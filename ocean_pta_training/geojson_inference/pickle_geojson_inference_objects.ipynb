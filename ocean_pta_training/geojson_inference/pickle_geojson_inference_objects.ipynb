{
 "cells": [
  {
   "cell_type": "code",
   "execution_count": 1,
   "id": "9098830c-3529-4f5a-941b-e3d5920feeec",
   "metadata": {},
   "outputs": [],
   "source": [
    "import igraph\n",
    "import os\n",
    "import pickle"
   ]
  },
  {
   "cell_type": "code",
   "execution_count": 2,
   "id": "3a49da3a-7140-4111-8916-adf9cb54be2b",
   "metadata": {},
   "outputs": [],
   "source": [
    "with open('shortest_path_objects_names.pkl', 'rb') as pickle_file:\n",
    "    obj_list_names = pickle.load(pickle_file)"
   ]
  },
  {
   "cell_type": "code",
   "execution_count": 3,
   "id": "00425b6a-fbf3-43c8-90b9-0f6232763626",
   "metadata": {},
   "outputs": [
    {
     "data": {
      "text/plain": [
       "'[network_obj, nodes_hexes]'"
      ]
     },
     "execution_count": 3,
     "metadata": {},
     "output_type": "execute_result"
    }
   ],
   "source": [
    "obj_list_names"
   ]
  },
  {
   "cell_type": "code",
   "execution_count": 4,
   "id": "57e81857-1d28-4e12-9bd3-596736f2fabf",
   "metadata": {},
   "outputs": [],
   "source": [
    "obj_infile = open(\"shortest_path_objects.pkl\", \"rb\")\n",
    "exec(obj_list_names+'='+'pickle.load(obj_infile)')"
   ]
  },
  {
   "cell_type": "code",
   "execution_count": 5,
   "id": "910cd8b8-0872-41b6-92da-ec756b2493d0",
   "metadata": {},
   "outputs": [],
   "source": [
    "with open(\"igraph_network_object.pickle\", \"wb\") as pickle_file:\n",
    "    pickle.dump(network_obj, pickle_file)"
   ]
  }
 ],
 "metadata": {
  "kernelspec": {
   "display_name": "Python 3 (ipykernel)",
   "language": "python",
   "name": "python3"
  },
  "language_info": {
   "codemirror_mode": {
    "name": "ipython",
    "version": 3
   },
   "file_extension": ".py",
   "mimetype": "text/x-python",
   "name": "python",
   "nbconvert_exporter": "python",
   "pygments_lexer": "ipython3",
   "version": "3.8.9"
  }
 },
 "nbformat": 4,
 "nbformat_minor": 5
}
