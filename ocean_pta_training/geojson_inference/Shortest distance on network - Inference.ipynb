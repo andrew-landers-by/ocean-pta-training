{
 "cells": [
  {
   "cell_type": "code",
   "execution_count": 1,
   "id": "b27ec20a-6a95-42b6-af49-680bea626950",
   "metadata": {},
   "outputs": [
    {
     "name": "stdout",
     "output_type": "stream",
     "text": [
      "/Users/Andrewlanders/projects/ocean_pta/ocean-pta-feature-extraction/geojson_inference/venv/bin/python\n"
     ]
    }
   ],
   "source": [
    "!which python"
   ]
  },
  {
   "cell_type": "code",
   "execution_count": 4,
   "id": "8c6dd342-9d06-459b-9d85-e625c6583f28",
   "metadata": {},
   "outputs": [],
   "source": [
    "!pip show haversine"
   ]
  },
  {
   "cell_type": "code",
   "execution_count": 5,
   "id": "0726384d-6a4f-42aa-892e-6bedf8e7cc1b",
   "metadata": {
    "collapsed": true,
    "jupyter": {
     "outputs_hidden": true
    },
    "tags": []
   },
   "outputs": [
    {
     "name": "stdout",
     "output_type": "stream",
     "text": [
      "Collecting haversine\n",
      "  Downloading haversine-2.5.1-py2.py3-none-any.whl (6.1 kB)\n",
      "Requirement already satisfied: h3==3.7.3 in ./venv/lib/python3.8/site-packages (from -r requirements.txt (line 2)) (3.7.3)\n",
      "Requirement already satisfied: pandas in ./venv/lib/python3.8/site-packages (from -r requirements.txt (line 3)) (1.3.2)\n",
      "Requirement already satisfied: igraph==0.9.9 in ./venv/lib/python3.8/site-packages (from -r requirements.txt (line 4)) (0.9.9)\n",
      "Requirement already satisfied: jupyterlab in ./venv/lib/python3.8/site-packages (from -r requirements.txt (line 5)) (3.2.9)\n",
      "Requirement already satisfied: texttable>=1.6.2 in ./venv/lib/python3.8/site-packages (from igraph==0.9.9->-r requirements.txt (line 4)) (1.6.4)\n",
      "Requirement already satisfied: pytz>=2017.3 in ./venv/lib/python3.8/site-packages (from pandas->-r requirements.txt (line 3)) (2021.3)\n",
      "Requirement already satisfied: python-dateutil>=2.7.3 in ./venv/lib/python3.8/site-packages (from pandas->-r requirements.txt (line 3)) (2.8.2)\n",
      "Requirement already satisfied: numpy>=1.17.3 in ./venv/lib/python3.8/site-packages (from pandas->-r requirements.txt (line 3)) (1.21.2)\n",
      "Requirement already satisfied: jupyterlab-server~=2.3 in ./venv/lib/python3.8/site-packages (from jupyterlab->-r requirements.txt (line 5)) (2.10.3)\n",
      "Requirement already satisfied: jupyter-server~=1.4 in ./venv/lib/python3.8/site-packages (from jupyterlab->-r requirements.txt (line 5)) (1.13.5)\n",
      "Requirement already satisfied: ipython in ./venv/lib/python3.8/site-packages (from jupyterlab->-r requirements.txt (line 5)) (8.0.1)\n",
      "Requirement already satisfied: tornado>=6.1.0 in ./venv/lib/python3.8/site-packages (from jupyterlab->-r requirements.txt (line 5)) (6.1)\n",
      "Requirement already satisfied: jinja2>=2.1 in ./venv/lib/python3.8/site-packages (from jupyterlab->-r requirements.txt (line 5)) (3.0.3)\n",
      "Requirement already satisfied: jupyter-core in ./venv/lib/python3.8/site-packages (from jupyterlab->-r requirements.txt (line 5)) (4.9.1)\n",
      "Requirement already satisfied: nbclassic~=0.2 in ./venv/lib/python3.8/site-packages (from jupyterlab->-r requirements.txt (line 5)) (0.3.5)\n",
      "Requirement already satisfied: packaging in ./venv/lib/python3.8/site-packages (from jupyterlab->-r requirements.txt (line 5)) (21.3)\n",
      "Requirement already satisfied: MarkupSafe>=2.0 in ./venv/lib/python3.8/site-packages (from jinja2>=2.1->jupyterlab->-r requirements.txt (line 5)) (2.0.1)\n",
      "Requirement already satisfied: nbformat in ./venv/lib/python3.8/site-packages (from jupyter-server~=1.4->jupyterlab->-r requirements.txt (line 5)) (5.1.3)\n",
      "Requirement already satisfied: pyzmq>=17 in ./venv/lib/python3.8/site-packages (from jupyter-server~=1.4->jupyterlab->-r requirements.txt (line 5)) (22.3.0)\n",
      "Requirement already satisfied: traitlets>=5 in ./venv/lib/python3.8/site-packages (from jupyter-server~=1.4->jupyterlab->-r requirements.txt (line 5)) (5.1.1)\n",
      "Requirement already satisfied: Send2Trash in ./venv/lib/python3.8/site-packages (from jupyter-server~=1.4->jupyterlab->-r requirements.txt (line 5)) (1.8.0)\n",
      "Requirement already satisfied: jupyter-client>=6.1.1 in ./venv/lib/python3.8/site-packages (from jupyter-server~=1.4->jupyterlab->-r requirements.txt (line 5)) (7.1.2)\n",
      "Requirement already satisfied: prometheus-client in ./venv/lib/python3.8/site-packages (from jupyter-server~=1.4->jupyterlab->-r requirements.txt (line 5)) (0.13.1)\n",
      "Requirement already satisfied: terminado>=0.8.3 in ./venv/lib/python3.8/site-packages (from jupyter-server~=1.4->jupyterlab->-r requirements.txt (line 5)) (0.13.1)\n",
      "Requirement already satisfied: nbconvert in ./venv/lib/python3.8/site-packages (from jupyter-server~=1.4->jupyterlab->-r requirements.txt (line 5)) (6.4.1)\n",
      "Requirement already satisfied: argon2-cffi in ./venv/lib/python3.8/site-packages (from jupyter-server~=1.4->jupyterlab->-r requirements.txt (line 5)) (21.3.0)\n",
      "Requirement already satisfied: anyio<4,>=3.1.0 in ./venv/lib/python3.8/site-packages (from jupyter-server~=1.4->jupyterlab->-r requirements.txt (line 5)) (3.5.0)\n",
      "Requirement already satisfied: websocket-client in ./venv/lib/python3.8/site-packages (from jupyter-server~=1.4->jupyterlab->-r requirements.txt (line 5)) (1.2.3)\n",
      "Requirement already satisfied: ipython-genutils in ./venv/lib/python3.8/site-packages (from jupyter-server~=1.4->jupyterlab->-r requirements.txt (line 5)) (0.2.0)\n",
      "Requirement already satisfied: jsonschema>=3.0.1 in ./venv/lib/python3.8/site-packages (from jupyterlab-server~=2.3->jupyterlab->-r requirements.txt (line 5)) (4.4.0)\n",
      "Requirement already satisfied: json5 in ./venv/lib/python3.8/site-packages (from jupyterlab-server~=2.3->jupyterlab->-r requirements.txt (line 5)) (0.9.6)\n",
      "Requirement already satisfied: entrypoints>=0.2.2 in ./venv/lib/python3.8/site-packages (from jupyterlab-server~=2.3->jupyterlab->-r requirements.txt (line 5)) (0.4)\n",
      "Requirement already satisfied: requests in ./venv/lib/python3.8/site-packages (from jupyterlab-server~=2.3->jupyterlab->-r requirements.txt (line 5)) (2.27.1)\n",
      "Requirement already satisfied: babel in ./venv/lib/python3.8/site-packages (from jupyterlab-server~=2.3->jupyterlab->-r requirements.txt (line 5)) (2.9.1)\n",
      "Requirement already satisfied: notebook<7 in ./venv/lib/python3.8/site-packages (from nbclassic~=0.2->jupyterlab->-r requirements.txt (line 5)) (6.4.8)\n",
      "Requirement already satisfied: six>=1.5 in ./venv/lib/python3.8/site-packages (from python-dateutil>=2.7.3->pandas->-r requirements.txt (line 3)) (1.16.0)\n",
      "Requirement already satisfied: prompt-toolkit!=3.0.0,!=3.0.1,<3.1.0,>=2.0.0 in ./venv/lib/python3.8/site-packages (from ipython->jupyterlab->-r requirements.txt (line 5)) (3.0.27)\n",
      "Requirement already satisfied: matplotlib-inline in ./venv/lib/python3.8/site-packages (from ipython->jupyterlab->-r requirements.txt (line 5)) (0.1.3)\n",
      "Requirement already satisfied: backcall in ./venv/lib/python3.8/site-packages (from ipython->jupyterlab->-r requirements.txt (line 5)) (0.2.0)\n",
      "Requirement already satisfied: appnope in ./venv/lib/python3.8/site-packages (from ipython->jupyterlab->-r requirements.txt (line 5)) (0.1.2)\n",
      "Requirement already satisfied: decorator in ./venv/lib/python3.8/site-packages (from ipython->jupyterlab->-r requirements.txt (line 5)) (5.1.1)\n",
      "Requirement already satisfied: setuptools>=18.5 in ./venv/lib/python3.8/site-packages (from ipython->jupyterlab->-r requirements.txt (line 5)) (41.2.0)\n",
      "Requirement already satisfied: pygments in ./venv/lib/python3.8/site-packages (from ipython->jupyterlab->-r requirements.txt (line 5)) (2.11.2)\n",
      "Requirement already satisfied: stack-data in ./venv/lib/python3.8/site-packages (from ipython->jupyterlab->-r requirements.txt (line 5)) (0.1.4)\n",
      "Requirement already satisfied: pexpect>4.3 in ./venv/lib/python3.8/site-packages (from ipython->jupyterlab->-r requirements.txt (line 5)) (4.8.0)\n",
      "Requirement already satisfied: pickleshare in ./venv/lib/python3.8/site-packages (from ipython->jupyterlab->-r requirements.txt (line 5)) (0.7.5)\n",
      "Requirement already satisfied: black in ./venv/lib/python3.8/site-packages (from ipython->jupyterlab->-r requirements.txt (line 5)) (22.1.0)\n",
      "Requirement already satisfied: jedi>=0.16 in ./venv/lib/python3.8/site-packages (from ipython->jupyterlab->-r requirements.txt (line 5)) (0.18.1)\n",
      "Requirement already satisfied: pyparsing!=3.0.5,>=2.0.2 in ./venv/lib/python3.8/site-packages (from packaging->jupyterlab->-r requirements.txt (line 5)) (3.0.7)\n",
      "Requirement already satisfied: sniffio>=1.1 in ./venv/lib/python3.8/site-packages (from anyio<4,>=3.1.0->jupyter-server~=1.4->jupyterlab->-r requirements.txt (line 5)) (1.2.0)\n",
      "Requirement already satisfied: idna>=2.8 in ./venv/lib/python3.8/site-packages (from anyio<4,>=3.1.0->jupyter-server~=1.4->jupyterlab->-r requirements.txt (line 5)) (3.3)\n",
      "Requirement already satisfied: parso<0.9.0,>=0.8.0 in ./venv/lib/python3.8/site-packages (from jedi>=0.16->ipython->jupyterlab->-r requirements.txt (line 5)) (0.8.3)\n",
      "Requirement already satisfied: importlib-resources>=1.4.0 in ./venv/lib/python3.8/site-packages (from jsonschema>=3.0.1->jupyterlab-server~=2.3->jupyterlab->-r requirements.txt (line 5)) (5.4.0)\n",
      "Requirement already satisfied: pyrsistent!=0.17.0,!=0.17.1,!=0.17.2,>=0.14.0 in ./venv/lib/python3.8/site-packages (from jsonschema>=3.0.1->jupyterlab-server~=2.3->jupyterlab->-r requirements.txt (line 5)) (0.18.1)\n",
      "Requirement already satisfied: attrs>=17.4.0 in ./venv/lib/python3.8/site-packages (from jsonschema>=3.0.1->jupyterlab-server~=2.3->jupyterlab->-r requirements.txt (line 5)) (21.4.0)\n",
      "Requirement already satisfied: nest-asyncio>=1.5 in ./venv/lib/python3.8/site-packages (from jupyter-client>=6.1.1->jupyter-server~=1.4->jupyterlab->-r requirements.txt (line 5)) (1.5.4)\n",
      "Requirement already satisfied: ipykernel in ./venv/lib/python3.8/site-packages (from notebook<7->nbclassic~=0.2->jupyterlab->-r requirements.txt (line 5)) (6.8.0)\n",
      "Requirement already satisfied: ptyprocess>=0.5 in ./venv/lib/python3.8/site-packages (from pexpect>4.3->ipython->jupyterlab->-r requirements.txt (line 5)) (0.7.0)\n",
      "Requirement already satisfied: wcwidth in ./venv/lib/python3.8/site-packages (from prompt-toolkit!=3.0.0,!=3.0.1,<3.1.0,>=2.0.0->ipython->jupyterlab->-r requirements.txt (line 5)) (0.2.5)\n",
      "Requirement already satisfied: argon2-cffi-bindings in ./venv/lib/python3.8/site-packages (from argon2-cffi->jupyter-server~=1.4->jupyterlab->-r requirements.txt (line 5)) (21.2.0)\n",
      "Requirement already satisfied: platformdirs>=2 in ./venv/lib/python3.8/site-packages (from black->ipython->jupyterlab->-r requirements.txt (line 5)) (2.4.1)\n",
      "Requirement already satisfied: mypy-extensions>=0.4.3 in ./venv/lib/python3.8/site-packages (from black->ipython->jupyterlab->-r requirements.txt (line 5)) (0.4.3)\n",
      "Requirement already satisfied: tomli>=1.1.0 in ./venv/lib/python3.8/site-packages (from black->ipython->jupyterlab->-r requirements.txt (line 5)) (2.0.0)\n",
      "Requirement already satisfied: click>=8.0.0 in ./venv/lib/python3.8/site-packages (from black->ipython->jupyterlab->-r requirements.txt (line 5)) (8.0.3)\n",
      "Requirement already satisfied: typing-extensions>=3.10.0.0 in ./venv/lib/python3.8/site-packages (from black->ipython->jupyterlab->-r requirements.txt (line 5)) (4.0.1)\n",
      "Requirement already satisfied: pathspec>=0.9.0 in ./venv/lib/python3.8/site-packages (from black->ipython->jupyterlab->-r requirements.txt (line 5)) (0.9.0)\n",
      "Requirement already satisfied: jupyterlab-pygments in ./venv/lib/python3.8/site-packages (from nbconvert->jupyter-server~=1.4->jupyterlab->-r requirements.txt (line 5)) (0.1.2)\n",
      "Requirement already satisfied: pandocfilters>=1.4.1 in ./venv/lib/python3.8/site-packages (from nbconvert->jupyter-server~=1.4->jupyterlab->-r requirements.txt (line 5)) (1.5.0)\n",
      "Requirement already satisfied: testpath in ./venv/lib/python3.8/site-packages (from nbconvert->jupyter-server~=1.4->jupyterlab->-r requirements.txt (line 5)) (0.5.0)\n",
      "Requirement already satisfied: defusedxml in ./venv/lib/python3.8/site-packages (from nbconvert->jupyter-server~=1.4->jupyterlab->-r requirements.txt (line 5)) (0.7.1)\n",
      "Requirement already satisfied: mistune<2,>=0.8.1 in ./venv/lib/python3.8/site-packages (from nbconvert->jupyter-server~=1.4->jupyterlab->-r requirements.txt (line 5)) (0.8.4)\n",
      "Requirement already satisfied: nbclient<0.6.0,>=0.5.0 in ./venv/lib/python3.8/site-packages (from nbconvert->jupyter-server~=1.4->jupyterlab->-r requirements.txt (line 5)) (0.5.10)\n",
      "Requirement already satisfied: bleach in ./venv/lib/python3.8/site-packages (from nbconvert->jupyter-server~=1.4->jupyterlab->-r requirements.txt (line 5)) (4.1.0)\n",
      "Requirement already satisfied: charset-normalizer~=2.0.0 in ./venv/lib/python3.8/site-packages (from requests->jupyterlab-server~=2.3->jupyterlab->-r requirements.txt (line 5)) (2.0.11)\n",
      "Requirement already satisfied: urllib3<1.27,>=1.21.1 in ./venv/lib/python3.8/site-packages (from requests->jupyterlab-server~=2.3->jupyterlab->-r requirements.txt (line 5)) (1.26.8)\n",
      "Requirement already satisfied: certifi>=2017.4.17 in ./venv/lib/python3.8/site-packages (from requests->jupyterlab-server~=2.3->jupyterlab->-r requirements.txt (line 5)) (2021.10.8)\n",
      "Requirement already satisfied: asttokens in ./venv/lib/python3.8/site-packages (from stack-data->ipython->jupyterlab->-r requirements.txt (line 5)) (2.0.5)\n",
      "Requirement already satisfied: executing in ./venv/lib/python3.8/site-packages (from stack-data->ipython->jupyterlab->-r requirements.txt (line 5)) (0.8.2)\n",
      "Requirement already satisfied: pure-eval in ./venv/lib/python3.8/site-packages (from stack-data->ipython->jupyterlab->-r requirements.txt (line 5)) (0.2.2)\n",
      "Requirement already satisfied: zipp>=3.1.0 in ./venv/lib/python3.8/site-packages (from importlib-resources>=1.4.0->jsonschema>=3.0.1->jupyterlab-server~=2.3->jupyterlab->-r requirements.txt (line 5)) (3.7.0)\n",
      "Requirement already satisfied: cffi>=1.0.1 in ./venv/lib/python3.8/site-packages (from argon2-cffi-bindings->argon2-cffi->jupyter-server~=1.4->jupyterlab->-r requirements.txt (line 5)) (1.15.0)\n",
      "Requirement already satisfied: webencodings in ./venv/lib/python3.8/site-packages (from bleach->nbconvert->jupyter-server~=1.4->jupyterlab->-r requirements.txt (line 5)) (0.5.1)\n",
      "Requirement already satisfied: debugpy<2.0,>=1.0.0 in ./venv/lib/python3.8/site-packages (from ipykernel->notebook<7->nbclassic~=0.2->jupyterlab->-r requirements.txt (line 5)) (1.5.1)\n",
      "Requirement already satisfied: pycparser in ./venv/lib/python3.8/site-packages (from cffi>=1.0.1->argon2-cffi-bindings->argon2-cffi->jupyter-server~=1.4->jupyterlab->-r requirements.txt (line 5)) (2.21)\n",
      "Installing collected packages: haversine\n",
      "Successfully installed haversine-2.5.1\n"
     ]
    }
   ],
   "source": [
    "!pip install -r requirements.txt"
   ]
  },
  {
   "cell_type": "code",
   "execution_count": 6,
   "id": "295b51f2-de0c-40b0-96c6-60b747703dc5",
   "metadata": {},
   "outputs": [],
   "source": [
    "import h3.api.numpy_int as h3\n",
    "import json\n",
    "import itertools\n",
    "import pandas as pd\n",
    "import numpy as np\n",
    "from igraph import Graph\n",
    "from haversine import haversine, haversine_vector, Unit\n",
    "import math\n",
    "import pickle\n",
    "from shortest_path import (\n",
    "    get_poi_flag,\n",
    "    get_subnetwork,\n",
    "    get_closest_node_on_network,\n",
    "    get_shortest_path_length,\n",
    "    get_shortest_path_length_iter\n",
    ")\n",
    "                           "
   ]
  },
  {
   "cell_type": "code",
   "execution_count": 7,
   "id": "30a7c0fc",
   "metadata": {},
   "outputs": [
    {
     "name": "stdout",
     "output_type": "stream",
     "text": [
      "3.8.2 (default, Jun  8 2021, 11:59:35) \n",
      "[Clang 12.0.5 (clang-1205.0.22.11)]\n",
      "3.7.3\n",
      "2.0.9\n",
      "1.3.2\n",
      "1.21.2\n",
      "0.9.9\n",
      "4.0\n"
     ]
    }
   ],
   "source": [
    "import sys\n",
    "print(sys.version)\n",
    "import h3 as h3_main\n",
    "print(h3_main.__version__)\n",
    "import json \n",
    "print(json.__version__)\n",
    "import pandas as pd\n",
    "print(pd.__version__)\n",
    "import numpy as np\n",
    "print(np.__version__)\n",
    "import igraph\n",
    "print(igraph.__version__)\n",
    "import pickle\n",
    "print(pickle.format_version)"
   ]
  },
  {
   "cell_type": "markdown",
   "id": "222b7e96",
   "metadata": {},
   "source": [
    "## Load the point of interests file - this can be sent through request too if we need it to fully dynamic\n",
    "\n",
    "\n"
   ]
  },
  {
   "cell_type": "code",
   "execution_count": 8,
   "id": "e221e24d",
   "metadata": {
    "scrolled": true
   },
   "outputs": [
    {
     "name": "stdout",
     "output_type": "stream",
     "text": [
      "<class 'pandas.core.frame.DataFrame'>\n",
      "RangeIndex: 1000 entries, 0 to 999\n",
      "Data columns (total 4 columns):\n",
      " #   Column  Non-Null Count  Dtype  \n",
      "---  ------  --------------  -----  \n",
      " 0   olat    1000 non-null   float64\n",
      " 1   olon    1000 non-null   float64\n",
      " 2   dlat    1000 non-null   float64\n",
      " 3   dlon    1000 non-null   float64\n",
      "dtypes: float64(4)\n",
      "memory usage: 31.4 KB\n"
     ]
    }
   ],
   "source": [
    "poi = pd.read_csv(\"poi_list.csv\") ## POI input file\n",
    "poi_latlon = poi['latlon'].apply(eval).values.tolist()\n",
    "poi_names = poi['poi'].values.tolist()\n",
    "\n",
    "shortest_path_input = pd.read_csv(\"shortest_path_sample_input.csv\") ### this is a sample file\n",
    "shortest_path_input.info()"
   ]
  },
  {
   "cell_type": "markdown",
   "id": "c807a2a9",
   "metadata": {},
   "source": [
    "## Load all the pickled objects"
   ]
  },
  {
   "cell_type": "code",
   "execution_count": 9,
   "id": "85f780bd",
   "metadata": {},
   "outputs": [
    {
     "name": "stdout",
     "output_type": "stream",
     "text": [
      "CPU times: user 101 ms, sys: 14.9 ms, total: 116 ms\n",
      "Wall time: 117 ms\n"
     ]
    }
   ],
   "source": [
    "%%time\n",
    "obj_infile = open(\"shortest_path_objects.pkl\", \"rb\")\n",
    "obj_names_infile = open(\"shortest_path_objects_names.pkl\", \"rb\")\n",
    "obj_list_names = pickle.load(obj_names_infile)\n",
    "exec(obj_list_names+'='+'pickle.load(obj_infile)')\n",
    "obj_infile.close()\n",
    "obj_names_infile.close()\n",
    "\n"
   ]
  },
  {
   "cell_type": "markdown",
   "id": "1db37774",
   "metadata": {},
   "source": [
    "## Sample usage to get shortest distance, haversine distance, shortest paths and poi"
   ]
  },
  {
   "cell_type": "code",
   "execution_count": 10,
   "id": "d9aa087c",
   "metadata": {},
   "outputs": [
    {
     "name": "stdout",
     "output_type": "stream",
     "text": [
      "CPU times: user 4.41 s, sys: 16.3 ms, total: 4.42 s\n",
      "Wall time: 4.42 s\n"
     ]
    }
   ],
   "source": [
    "%%time\n",
    "input_source = shortest_path_input[['olat','olon']].values.tolist()\n",
    "input_dest = shortest_path_input[['dlat','dlon']].values.tolist()\n",
    "shortest_paths,haversine_distance, ocean_distance, distance_from_source_to_network, distance_to_dest_from_network, points_of_interest = get_shortest_path_length_iter(network_obj, nodes_hexes, poi_latlon, input_source, input_dest)\n"
   ]
  },
  {
   "cell_type": "code",
   "execution_count": 21,
   "id": "05c6eaf9",
   "metadata": {},
   "outputs": [
    {
     "data": {
      "text/plain": [
       "1000"
      ]
     },
     "execution_count": 21,
     "metadata": {},
     "output_type": "execute_result"
    }
   ],
   "source": [
    "len(ocean_distance)"
   ]
  },
  {
   "cell_type": "code",
   "execution_count": 22,
   "id": "96d24757-a464-4233-a33b-f9f95697d55f",
   "metadata": {},
   "outputs": [
    {
     "data": {
      "text/plain": [
       "array([13848.2448971 ,  6288.74238919, 16145.73929259, 15668.06011773,\n",
       "         675.86759451,  8574.34195778,  6263.79820342,  9558.26752938,\n",
       "       13013.11861099, 13748.44432316])"
      ]
     },
     "execution_count": 22,
     "metadata": {},
     "output_type": "execute_result"
    }
   ],
   "source": [
    "ocean_distance[:10]"
   ]
  },
  {
   "cell_type": "code",
   "execution_count": null,
   "id": "ea368eae-ce73-4420-b3bf-5960a73de55f",
   "metadata": {},
   "outputs": [],
   "source": []
  }
 ],
 "metadata": {
  "kernelspec": {
   "display_name": "Python 3 (ipykernel)",
   "language": "python",
   "name": "python3"
  },
  "language_info": {
   "codemirror_mode": {
    "name": "ipython",
    "version": 3
   },
   "file_extension": ".py",
   "mimetype": "text/x-python",
   "name": "python",
   "nbconvert_exporter": "python",
   "pygments_lexer": "ipython3",
   "version": "3.8.2"
  }
 },
 "nbformat": 4,
 "nbformat_minor": 5
}
